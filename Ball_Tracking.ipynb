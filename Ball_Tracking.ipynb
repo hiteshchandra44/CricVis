{
 "cells": [
  {
   "cell_type": "code",
   "execution_count": 6,
   "id": "8e2c1603-e766-422d-ba7e-427068c564cd",
   "metadata": {},
   "outputs": [
    {
     "name": "stdout",
     "output_type": "stream",
     "text": [
      "Tracking started. Press 'i' when the bat hits the ball to stop updating trajectory.\n",
      "Press 'q' to quit early.\n"
     ]
    },
    {
     "name": "stderr",
     "output_type": "stream",
     "text": [
      "C:\\Users\\chand\\AppData\\Local\\Temp\\ipykernel_18600\\3771028949.py:73: DeprecationWarning: Conversion of an array with ndim > 0 to a scalar is deprecated, and will error in future. Ensure you extract a single element from your array before performing this operation. (Deprecated NumPy 1.25.)\n",
      "  pred_x, pred_y = int(prediction[0]), int(prediction[1])\n"
     ]
    },
    {
     "name": "stdout",
     "output_type": "stream",
     "text": [
      "Output video saved as Ball_Trajectory_Overlay_sm.mp4\n"
     ]
    }
   ],
   "source": [
    "import cv2\n",
    "import numpy as np\n",
    "import os\n",
    "from scipy.signal import savgol_filter\n",
    "\n",
    "video_path = \"C:\\\\Users\\\\chand\\\\Downloads\\\\SlowMoCric_5.mp4\"\n",
    "cap = cv2.VideoCapture(video_path)\n",
    "if not cap.isOpened():\n",
    "    print(\"Error: Could not open video file.\")\n",
    "    exit()\n",
    "\n",
    "ret, first_frame = cap.read()\n",
    "if not ret:\n",
    "    print(\"Error: Could not read first frame.\")\n",
    "    cap.release()\n",
    "    exit()\n",
    "\n",
    "bbox = cv2.selectROI(\"Select Ball (draw a box around the ball)\", first_frame, fromCenter=False, showCrosshair=True)\n",
    "cv2.destroyWindow(\"Select Ball (draw a box around the ball)\")\n",
    "\n",
    "tracker = cv2.TrackerCSRT_create()\n",
    "tracker.init(first_frame, bbox)\n",
    "\n",
    "kalman = cv2.KalmanFilter(4, 2)\n",
    "kalman.measurementMatrix = np.array([[1, 0, 0, 0], [0, 1, 0, 0]], np.float32)\n",
    "kalman.transitionMatrix = np.array([[1, 0, 1, 0], [0, 1, 0, 1], [0, 0, 1, 0], [0, 0, 0, 1]], np.float32)\n",
    "kalman.processNoiseCov = np.array([[1, 0, 0, 0], [0, 1, 0, 0], [0, 0, 1e-4, 0], [0, 0, 0, 1e-4]], np.float32)\n",
    "\n",
    "frame_width = int(cap.get(cv2.CAP_PROP_FRAME_WIDTH))\n",
    "frame_height = int(cap.get(cv2.CAP_PROP_FRAME_HEIGHT))\n",
    "orig_fps = cap.get(cv2.CAP_PROP_FPS)\n",
    "output_fps = max(5, int(orig_fps) // 2)\n",
    "\n",
    "output_video_path = \"Ball_Trajectory_Overlay_sm.mp4\"\n",
    "fourcc = cv2.VideoWriter_fourcc(*'mp4v')\n",
    "out = cv2.VideoWriter(output_video_path, fourcc, output_fps, (frame_width, frame_height))\n",
    "\n",
    "positions = []\n",
    "bat_hit = False\n",
    "\n",
    "print(\"Tracking started. Press 'i' when the bat hits the ball to stop updating trajectory.\")\n",
    "print(\"Press 'q' to quit early.\")\n",
    "\n",
    "while True:\n",
    "    ret, frame = cap.read()\n",
    "    if not ret:\n",
    "        break\n",
    "\n",
    "    if not bat_hit:\n",
    "        success, bbox = tracker.update(frame)\n",
    "        if success:\n",
    "            x, y, w, h = [int(v) for v in bbox]\n",
    "            center = np.array([[x + w // 2], [y + h // 2]], np.float32)\n",
    "\n",
    "            # Kalman filter correction\n",
    "            kalman.correct(center)\n",
    "            prediction = kalman.predict()\n",
    "            pred_x, pred_y = int(prediction[0]), int(prediction[1])\n",
    "            positions.append((pred_x, pred_y))\n",
    "        else:\n",
    "            pass  \n",
    "\n",
    "    key = cv2.waitKey(1) & 0xFF\n",
    "    if key == ord('i'):\n",
    "        bat_hit = True  \n",
    "    if key == ord('q'):\n",
    "        break\n",
    "\n",
    "    if len(positions) > 10:\n",
    "        positions_arr = np.array(positions)\n",
    "        window_size = min(len(positions), 11)\n",
    "        if window_size % 2 == 0:\n",
    "            window_size -= 1  # Ensure odd window size\n",
    "        x_smooth = savgol_filter(positions_arr[:, 0], window_size, 2)\n",
    "        y_smooth = savgol_filter(positions_arr[:, 1], window_size, 2)\n",
    "        smooth_positions = list(zip(x_smooth.astype(int), y_smooth.astype(int)))\n",
    "    else:\n",
    "        smooth_positions = positions\n",
    "\n",
    "\n",
    "    if len(smooth_positions) > 1:\n",
    "        cv2.polylines(frame, [np.array(smooth_positions, np.int32)], False, (0, 255, 255), 4, cv2.LINE_AA)\n",
    "\n",
    "    if positions:\n",
    "        cv2.circle(frame, positions[-1], 8, (0, 0, 255), -1)\n",
    "\n",
    "    cv2.putText(frame, \"Press 'i' at bat impact | 'q' to quit\", (30, 40),\n",
    "                cv2.FONT_HERSHEY_SIMPLEX, 1, (255, 255, 255), 2, cv2.LINE_AA)\n",
    "\n",
    "    out.write(frame)\n",
    "    cv2.imshow(\"Ball Trajectory Overlay\", frame)\n",
    "\n",
    "cap.release()\n",
    "out.release()\n",
    "cv2.destroyAllWindows()\n",
    "\n",
    "print(\"Output video saved as\", output_video_path)\n"
   ]
  },
  {
   "cell_type": "code",
   "execution_count": null,
   "id": "c1f4edee-4dca-4408-acf4-3e0b248c14ea",
   "metadata": {},
   "outputs": [],
   "source": []
  }
 ],
 "metadata": {
  "kernelspec": {
   "display_name": "Python [conda env:base] *",
   "language": "python",
   "name": "conda-base-py"
  },
  "language_info": {
   "codemirror_mode": {
    "name": "ipython",
    "version": 3
   },
   "file_extension": ".py",
   "mimetype": "text/x-python",
   "name": "python",
   "nbconvert_exporter": "python",
   "pygments_lexer": "ipython3",
   "version": "3.12.3"
  }
 },
 "nbformat": 4,
 "nbformat_minor": 5
}
